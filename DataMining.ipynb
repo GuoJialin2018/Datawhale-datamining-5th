{
 "cells": [
  {
   "cell_type": "markdown",
   "metadata": {},
   "source": [
    "# 数据挖掘项目"
   ]
  },
  {
   "cell_type": "markdown",
   "metadata": {},
   "source": [
    "1.导入相应的库和数据（注意原文件不是UTF-8编码，需要调整一下）"
   ]
  },
  {
   "cell_type": "code",
   "execution_count": 1,
   "metadata": {},
   "outputs": [],
   "source": [
    "# data processing\n",
    "import numpy as np\n",
    "import pandas as pd\n",
    "from pandas import datetime\n",
    "\n",
    "#data visualization\n",
    "import matplotlib.pyplot as plt\n",
    "import seaborn as sns \n",
    "%matplotlib inline\n",
    "\n",
    "#read data\n",
    "data=pd.read_csv(\"D:/github/data.csv\")\n"
   ]
  },
  {
   "cell_type": "markdown",
   "metadata": {},
   "source": [
    "2.数据描述"
   ]
  },
  {
   "cell_type": "code",
   "execution_count": 2,
   "metadata": {},
   "outputs": [
    {
     "data": {
      "text/html": [
       "<div>\n",
       "<style scoped>\n",
       "    .dataframe tbody tr th:only-of-type {\n",
       "        vertical-align: middle;\n",
       "    }\n",
       "\n",
       "    .dataframe tbody tr th {\n",
       "        vertical-align: top;\n",
       "    }\n",
       "\n",
       "    .dataframe thead th {\n",
       "        text-align: right;\n",
       "    }\n",
       "</style>\n",
       "<table border=\"1\" class=\"dataframe\">\n",
       "  <thead>\n",
       "    <tr style=\"text-align: right;\">\n",
       "      <th></th>\n",
       "      <th>Unnamed: 0</th>\n",
       "      <th>custid</th>\n",
       "      <th>trade_no</th>\n",
       "      <th>low_volume_percent</th>\n",
       "      <th>middle_volume_percent</th>\n",
       "      <th>take_amount_in_later_12_month_highest</th>\n",
       "      <th>trans_amount_increase_rate_lately</th>\n",
       "      <th>trans_activity_month</th>\n",
       "      <th>trans_activity_day</th>\n",
       "      <th>transd_mcc</th>\n",
       "      <th>...</th>\n",
       "      <th>loans_max_limit</th>\n",
       "      <th>loans_avg_limit</th>\n",
       "      <th>consfin_credit_limit</th>\n",
       "      <th>consfin_credibility</th>\n",
       "      <th>consfin_org_count_current</th>\n",
       "      <th>consfin_product_count</th>\n",
       "      <th>consfin_max_limit</th>\n",
       "      <th>consfin_avg_limit</th>\n",
       "      <th>latest_query_day</th>\n",
       "      <th>loans_latest_day</th>\n",
       "    </tr>\n",
       "  </thead>\n",
       "  <tbody>\n",
       "    <tr>\n",
       "      <th>count</th>\n",
       "      <td>4754.000000</td>\n",
       "      <td>4.754000e+03</td>\n",
       "      <td>4.754000e+03</td>\n",
       "      <td>4752.000000</td>\n",
       "      <td>4752.000000</td>\n",
       "      <td>4754.000000</td>\n",
       "      <td>4751.000000</td>\n",
       "      <td>4752.000000</td>\n",
       "      <td>4752.000000</td>\n",
       "      <td>4752.000000</td>\n",
       "      <td>...</td>\n",
       "      <td>4457.000000</td>\n",
       "      <td>4457.000000</td>\n",
       "      <td>4457.000000</td>\n",
       "      <td>4457.000000</td>\n",
       "      <td>4457.000000</td>\n",
       "      <td>4457.000000</td>\n",
       "      <td>4457.000000</td>\n",
       "      <td>4457.000000</td>\n",
       "      <td>4450.000000</td>\n",
       "      <td>4457.000000</td>\n",
       "    </tr>\n",
       "    <tr>\n",
       "      <th>mean</th>\n",
       "      <td>6008.414178</td>\n",
       "      <td>1.690993e+06</td>\n",
       "      <td>2.018050e+31</td>\n",
       "      <td>0.021806</td>\n",
       "      <td>0.901294</td>\n",
       "      <td>1940.197728</td>\n",
       "      <td>14.160674</td>\n",
       "      <td>0.804411</td>\n",
       "      <td>0.365425</td>\n",
       "      <td>17.502946</td>\n",
       "      <td>...</td>\n",
       "      <td>3390.038142</td>\n",
       "      <td>1820.357864</td>\n",
       "      <td>9187.009199</td>\n",
       "      <td>76.042630</td>\n",
       "      <td>4.732331</td>\n",
       "      <td>5.227507</td>\n",
       "      <td>16153.690823</td>\n",
       "      <td>8007.696881</td>\n",
       "      <td>24.112809</td>\n",
       "      <td>55.181512</td>\n",
       "    </tr>\n",
       "    <tr>\n",
       "      <th>std</th>\n",
       "      <td>3452.071428</td>\n",
       "      <td>1.034235e+06</td>\n",
       "      <td>1.812890e+18</td>\n",
       "      <td>0.041527</td>\n",
       "      <td>0.144856</td>\n",
       "      <td>3923.971494</td>\n",
       "      <td>694.180473</td>\n",
       "      <td>0.196920</td>\n",
       "      <td>0.170196</td>\n",
       "      <td>4.475616</td>\n",
       "      <td>...</td>\n",
       "      <td>1474.206546</td>\n",
       "      <td>583.418291</td>\n",
       "      <td>7371.257043</td>\n",
       "      <td>14.536819</td>\n",
       "      <td>2.974596</td>\n",
       "      <td>3.409292</td>\n",
       "      <td>14301.037628</td>\n",
       "      <td>5679.418585</td>\n",
       "      <td>37.725724</td>\n",
       "      <td>53.486408</td>\n",
       "    </tr>\n",
       "    <tr>\n",
       "      <th>min</th>\n",
       "      <td>5.000000</td>\n",
       "      <td>1.140000e+02</td>\n",
       "      <td>2.018050e+31</td>\n",
       "      <td>0.000000</td>\n",
       "      <td>0.000000</td>\n",
       "      <td>0.000000</td>\n",
       "      <td>0.000000</td>\n",
       "      <td>0.120000</td>\n",
       "      <td>0.033000</td>\n",
       "      <td>2.000000</td>\n",
       "      <td>...</td>\n",
       "      <td>0.000000</td>\n",
       "      <td>0.000000</td>\n",
       "      <td>0.000000</td>\n",
       "      <td>0.000000</td>\n",
       "      <td>0.000000</td>\n",
       "      <td>0.000000</td>\n",
       "      <td>0.000000</td>\n",
       "      <td>0.000000</td>\n",
       "      <td>-2.000000</td>\n",
       "      <td>-2.000000</td>\n",
       "    </tr>\n",
       "    <tr>\n",
       "      <th>25%</th>\n",
       "      <td>3106.000000</td>\n",
       "      <td>7.593358e+05</td>\n",
       "      <td>2.018050e+31</td>\n",
       "      <td>0.010000</td>\n",
       "      <td>0.880000</td>\n",
       "      <td>0.000000</td>\n",
       "      <td>0.615000</td>\n",
       "      <td>0.670000</td>\n",
       "      <td>0.233000</td>\n",
       "      <td>15.000000</td>\n",
       "      <td>...</td>\n",
       "      <td>2300.000000</td>\n",
       "      <td>1535.000000</td>\n",
       "      <td>4800.000000</td>\n",
       "      <td>77.000000</td>\n",
       "      <td>2.000000</td>\n",
       "      <td>3.000000</td>\n",
       "      <td>7800.000000</td>\n",
       "      <td>4737.000000</td>\n",
       "      <td>5.000000</td>\n",
       "      <td>10.000000</td>\n",
       "    </tr>\n",
       "    <tr>\n",
       "      <th>50%</th>\n",
       "      <td>6006.500000</td>\n",
       "      <td>1.634942e+06</td>\n",
       "      <td>2.018050e+31</td>\n",
       "      <td>0.010000</td>\n",
       "      <td>0.960000</td>\n",
       "      <td>500.000000</td>\n",
       "      <td>0.970000</td>\n",
       "      <td>0.860000</td>\n",
       "      <td>0.350000</td>\n",
       "      <td>17.000000</td>\n",
       "      <td>...</td>\n",
       "      <td>3100.000000</td>\n",
       "      <td>1810.000000</td>\n",
       "      <td>7700.000000</td>\n",
       "      <td>79.000000</td>\n",
       "      <td>4.000000</td>\n",
       "      <td>5.000000</td>\n",
       "      <td>13800.000000</td>\n",
       "      <td>7050.000000</td>\n",
       "      <td>14.000000</td>\n",
       "      <td>36.000000</td>\n",
       "    </tr>\n",
       "    <tr>\n",
       "      <th>75%</th>\n",
       "      <td>8999.000000</td>\n",
       "      <td>2.597905e+06</td>\n",
       "      <td>2.018050e+31</td>\n",
       "      <td>0.020000</td>\n",
       "      <td>0.990000</td>\n",
       "      <td>2000.000000</td>\n",
       "      <td>1.600000</td>\n",
       "      <td>1.000000</td>\n",
       "      <td>0.480000</td>\n",
       "      <td>20.000000</td>\n",
       "      <td>...</td>\n",
       "      <td>4300.000000</td>\n",
       "      <td>2100.000000</td>\n",
       "      <td>11700.000000</td>\n",
       "      <td>80.000000</td>\n",
       "      <td>7.000000</td>\n",
       "      <td>7.000000</td>\n",
       "      <td>20400.000000</td>\n",
       "      <td>10000.000000</td>\n",
       "      <td>24.000000</td>\n",
       "      <td>91.000000</td>\n",
       "    </tr>\n",
       "    <tr>\n",
       "      <th>max</th>\n",
       "      <td>11992.000000</td>\n",
       "      <td>4.004694e+06</td>\n",
       "      <td>2.018050e+31</td>\n",
       "      <td>1.000000</td>\n",
       "      <td>1.000000</td>\n",
       "      <td>68000.000000</td>\n",
       "      <td>47596.740000</td>\n",
       "      <td>1.000000</td>\n",
       "      <td>0.941000</td>\n",
       "      <td>42.000000</td>\n",
       "      <td>...</td>\n",
       "      <td>10000.000000</td>\n",
       "      <td>6900.000000</td>\n",
       "      <td>87100.000000</td>\n",
       "      <td>87.000000</td>\n",
       "      <td>18.000000</td>\n",
       "      <td>20.000000</td>\n",
       "      <td>266400.000000</td>\n",
       "      <td>82800.000000</td>\n",
       "      <td>360.000000</td>\n",
       "      <td>323.000000</td>\n",
       "    </tr>\n",
       "  </tbody>\n",
       "</table>\n",
       "<p>8 rows × 84 columns</p>\n",
       "</div>"
      ],
      "text/plain": [
       "         Unnamed: 0        custid      trade_no  low_volume_percent  \\\n",
       "count   4754.000000  4.754000e+03  4.754000e+03         4752.000000   \n",
       "mean    6008.414178  1.690993e+06  2.018050e+31            0.021806   \n",
       "std     3452.071428  1.034235e+06  1.812890e+18            0.041527   \n",
       "min        5.000000  1.140000e+02  2.018050e+31            0.000000   \n",
       "25%     3106.000000  7.593358e+05  2.018050e+31            0.010000   \n",
       "50%     6006.500000  1.634942e+06  2.018050e+31            0.010000   \n",
       "75%     8999.000000  2.597905e+06  2.018050e+31            0.020000   \n",
       "max    11992.000000  4.004694e+06  2.018050e+31            1.000000   \n",
       "\n",
       "       middle_volume_percent  take_amount_in_later_12_month_highest  \\\n",
       "count            4752.000000                            4754.000000   \n",
       "mean                0.901294                            1940.197728   \n",
       "std                 0.144856                            3923.971494   \n",
       "min                 0.000000                               0.000000   \n",
       "25%                 0.880000                               0.000000   \n",
       "50%                 0.960000                             500.000000   \n",
       "75%                 0.990000                            2000.000000   \n",
       "max                 1.000000                           68000.000000   \n",
       "\n",
       "       trans_amount_increase_rate_lately  trans_activity_month  \\\n",
       "count                        4751.000000           4752.000000   \n",
       "mean                           14.160674              0.804411   \n",
       "std                           694.180473              0.196920   \n",
       "min                             0.000000              0.120000   \n",
       "25%                             0.615000              0.670000   \n",
       "50%                             0.970000              0.860000   \n",
       "75%                             1.600000              1.000000   \n",
       "max                         47596.740000              1.000000   \n",
       "\n",
       "       trans_activity_day   transd_mcc        ...         loans_max_limit  \\\n",
       "count         4752.000000  4752.000000        ...             4457.000000   \n",
       "mean             0.365425    17.502946        ...             3390.038142   \n",
       "std              0.170196     4.475616        ...             1474.206546   \n",
       "min              0.033000     2.000000        ...                0.000000   \n",
       "25%              0.233000    15.000000        ...             2300.000000   \n",
       "50%              0.350000    17.000000        ...             3100.000000   \n",
       "75%              0.480000    20.000000        ...             4300.000000   \n",
       "max              0.941000    42.000000        ...            10000.000000   \n",
       "\n",
       "       loans_avg_limit  consfin_credit_limit  consfin_credibility  \\\n",
       "count      4457.000000           4457.000000          4457.000000   \n",
       "mean       1820.357864           9187.009199            76.042630   \n",
       "std         583.418291           7371.257043            14.536819   \n",
       "min           0.000000              0.000000             0.000000   \n",
       "25%        1535.000000           4800.000000            77.000000   \n",
       "50%        1810.000000           7700.000000            79.000000   \n",
       "75%        2100.000000          11700.000000            80.000000   \n",
       "max        6900.000000          87100.000000            87.000000   \n",
       "\n",
       "       consfin_org_count_current  consfin_product_count  consfin_max_limit  \\\n",
       "count                4457.000000            4457.000000        4457.000000   \n",
       "mean                    4.732331               5.227507       16153.690823   \n",
       "std                     2.974596               3.409292       14301.037628   \n",
       "min                     0.000000               0.000000           0.000000   \n",
       "25%                     2.000000               3.000000        7800.000000   \n",
       "50%                     4.000000               5.000000       13800.000000   \n",
       "75%                     7.000000               7.000000       20400.000000   \n",
       "max                    18.000000              20.000000      266400.000000   \n",
       "\n",
       "       consfin_avg_limit  latest_query_day  loans_latest_day  \n",
       "count        4457.000000       4450.000000       4457.000000  \n",
       "mean         8007.696881         24.112809         55.181512  \n",
       "std          5679.418585         37.725724         53.486408  \n",
       "min             0.000000         -2.000000         -2.000000  \n",
       "25%          4737.000000          5.000000         10.000000  \n",
       "50%          7050.000000         14.000000         36.000000  \n",
       "75%         10000.000000         24.000000         91.000000  \n",
       "max         82800.000000        360.000000        323.000000  \n",
       "\n",
       "[8 rows x 84 columns]"
      ]
     },
     "execution_count": 2,
     "metadata": {},
     "output_type": "execute_result"
    }
   ],
   "source": [
    "data.describe()"
   ]
  },
  {
   "cell_type": "code",
   "execution_count": 3,
   "metadata": {
    "scrolled": true
   },
   "outputs": [
    {
     "data": {
      "text/html": [
       "<div>\n",
       "<style scoped>\n",
       "    .dataframe tbody tr th:only-of-type {\n",
       "        vertical-align: middle;\n",
       "    }\n",
       "\n",
       "    .dataframe tbody tr th {\n",
       "        vertical-align: top;\n",
       "    }\n",
       "\n",
       "    .dataframe thead th {\n",
       "        text-align: right;\n",
       "    }\n",
       "</style>\n",
       "<table border=\"1\" class=\"dataframe\">\n",
       "  <thead>\n",
       "    <tr style=\"text-align: right;\">\n",
       "      <th></th>\n",
       "      <th>Unnamed: 0</th>\n",
       "      <th>custid</th>\n",
       "      <th>trade_no</th>\n",
       "      <th>bank_card_no</th>\n",
       "      <th>low_volume_percent</th>\n",
       "      <th>middle_volume_percent</th>\n",
       "      <th>take_amount_in_later_12_month_highest</th>\n",
       "      <th>trans_amount_increase_rate_lately</th>\n",
       "      <th>trans_activity_month</th>\n",
       "      <th>trans_activity_day</th>\n",
       "      <th>...</th>\n",
       "      <th>loans_max_limit</th>\n",
       "      <th>loans_avg_limit</th>\n",
       "      <th>consfin_credit_limit</th>\n",
       "      <th>consfin_credibility</th>\n",
       "      <th>consfin_org_count_current</th>\n",
       "      <th>consfin_product_count</th>\n",
       "      <th>consfin_max_limit</th>\n",
       "      <th>consfin_avg_limit</th>\n",
       "      <th>latest_query_day</th>\n",
       "      <th>loans_latest_day</th>\n",
       "    </tr>\n",
       "  </thead>\n",
       "  <tbody>\n",
       "    <tr>\n",
       "      <th>0</th>\n",
       "      <td>5</td>\n",
       "      <td>2791858</td>\n",
       "      <td>2.018050e+31</td>\n",
       "      <td>卡号1</td>\n",
       "      <td>0.01</td>\n",
       "      <td>0.99</td>\n",
       "      <td>0</td>\n",
       "      <td>0.90</td>\n",
       "      <td>0.55</td>\n",
       "      <td>0.313</td>\n",
       "      <td>...</td>\n",
       "      <td>2900.0</td>\n",
       "      <td>1688.0</td>\n",
       "      <td>1200.0</td>\n",
       "      <td>75.0</td>\n",
       "      <td>1.0</td>\n",
       "      <td>2.0</td>\n",
       "      <td>1200.0</td>\n",
       "      <td>1200.0</td>\n",
       "      <td>12.0</td>\n",
       "      <td>18.0</td>\n",
       "    </tr>\n",
       "    <tr>\n",
       "      <th>1</th>\n",
       "      <td>10</td>\n",
       "      <td>534047</td>\n",
       "      <td>2.018050e+31</td>\n",
       "      <td>卡号1</td>\n",
       "      <td>0.02</td>\n",
       "      <td>0.94</td>\n",
       "      <td>2000</td>\n",
       "      <td>1.28</td>\n",
       "      <td>1.00</td>\n",
       "      <td>0.458</td>\n",
       "      <td>...</td>\n",
       "      <td>3500.0</td>\n",
       "      <td>1758.0</td>\n",
       "      <td>15100.0</td>\n",
       "      <td>80.0</td>\n",
       "      <td>5.0</td>\n",
       "      <td>6.0</td>\n",
       "      <td>22800.0</td>\n",
       "      <td>9360.0</td>\n",
       "      <td>4.0</td>\n",
       "      <td>2.0</td>\n",
       "    </tr>\n",
       "    <tr>\n",
       "      <th>2</th>\n",
       "      <td>12</td>\n",
       "      <td>2849787</td>\n",
       "      <td>2.018050e+31</td>\n",
       "      <td>卡号1</td>\n",
       "      <td>0.04</td>\n",
       "      <td>0.96</td>\n",
       "      <td>0</td>\n",
       "      <td>1.00</td>\n",
       "      <td>1.00</td>\n",
       "      <td>0.114</td>\n",
       "      <td>...</td>\n",
       "      <td>1600.0</td>\n",
       "      <td>1250.0</td>\n",
       "      <td>4200.0</td>\n",
       "      <td>87.0</td>\n",
       "      <td>1.0</td>\n",
       "      <td>1.0</td>\n",
       "      <td>4200.0</td>\n",
       "      <td>4200.0</td>\n",
       "      <td>2.0</td>\n",
       "      <td>6.0</td>\n",
       "    </tr>\n",
       "    <tr>\n",
       "      <th>3</th>\n",
       "      <td>13</td>\n",
       "      <td>1809708</td>\n",
       "      <td>2.018050e+31</td>\n",
       "      <td>卡号1</td>\n",
       "      <td>0.00</td>\n",
       "      <td>0.96</td>\n",
       "      <td>2000</td>\n",
       "      <td>0.13</td>\n",
       "      <td>0.57</td>\n",
       "      <td>0.777</td>\n",
       "      <td>...</td>\n",
       "      <td>3200.0</td>\n",
       "      <td>1541.0</td>\n",
       "      <td>16300.0</td>\n",
       "      <td>80.0</td>\n",
       "      <td>5.0</td>\n",
       "      <td>5.0</td>\n",
       "      <td>30000.0</td>\n",
       "      <td>12180.0</td>\n",
       "      <td>2.0</td>\n",
       "      <td>4.0</td>\n",
       "    </tr>\n",
       "    <tr>\n",
       "      <th>4</th>\n",
       "      <td>14</td>\n",
       "      <td>2499829</td>\n",
       "      <td>2.018050e+31</td>\n",
       "      <td>卡号1</td>\n",
       "      <td>0.01</td>\n",
       "      <td>0.99</td>\n",
       "      <td>0</td>\n",
       "      <td>0.46</td>\n",
       "      <td>1.00</td>\n",
       "      <td>0.175</td>\n",
       "      <td>...</td>\n",
       "      <td>2300.0</td>\n",
       "      <td>1630.0</td>\n",
       "      <td>8300.0</td>\n",
       "      <td>79.0</td>\n",
       "      <td>2.0</td>\n",
       "      <td>2.0</td>\n",
       "      <td>8400.0</td>\n",
       "      <td>8250.0</td>\n",
       "      <td>22.0</td>\n",
       "      <td>120.0</td>\n",
       "    </tr>\n",
       "  </tbody>\n",
       "</table>\n",
       "<p>5 rows × 90 columns</p>\n",
       "</div>"
      ],
      "text/plain": [
       "   Unnamed: 0   custid      trade_no bank_card_no  low_volume_percent  \\\n",
       "0           5  2791858  2.018050e+31          卡号1                0.01   \n",
       "1          10   534047  2.018050e+31          卡号1                0.02   \n",
       "2          12  2849787  2.018050e+31          卡号1                0.04   \n",
       "3          13  1809708  2.018050e+31          卡号1                0.00   \n",
       "4          14  2499829  2.018050e+31          卡号1                0.01   \n",
       "\n",
       "   middle_volume_percent  take_amount_in_later_12_month_highest  \\\n",
       "0                   0.99                                      0   \n",
       "1                   0.94                                   2000   \n",
       "2                   0.96                                      0   \n",
       "3                   0.96                                   2000   \n",
       "4                   0.99                                      0   \n",
       "\n",
       "   trans_amount_increase_rate_lately  trans_activity_month  \\\n",
       "0                               0.90                  0.55   \n",
       "1                               1.28                  1.00   \n",
       "2                               1.00                  1.00   \n",
       "3                               0.13                  0.57   \n",
       "4                               0.46                  1.00   \n",
       "\n",
       "   trans_activity_day        ...         loans_max_limit  loans_avg_limit  \\\n",
       "0               0.313        ...                  2900.0           1688.0   \n",
       "1               0.458        ...                  3500.0           1758.0   \n",
       "2               0.114        ...                  1600.0           1250.0   \n",
       "3               0.777        ...                  3200.0           1541.0   \n",
       "4               0.175        ...                  2300.0           1630.0   \n",
       "\n",
       "   consfin_credit_limit  consfin_credibility  consfin_org_count_current  \\\n",
       "0                1200.0                 75.0                        1.0   \n",
       "1               15100.0                 80.0                        5.0   \n",
       "2                4200.0                 87.0                        1.0   \n",
       "3               16300.0                 80.0                        5.0   \n",
       "4                8300.0                 79.0                        2.0   \n",
       "\n",
       "   consfin_product_count  consfin_max_limit  consfin_avg_limit  \\\n",
       "0                    2.0             1200.0             1200.0   \n",
       "1                    6.0            22800.0             9360.0   \n",
       "2                    1.0             4200.0             4200.0   \n",
       "3                    5.0            30000.0            12180.0   \n",
       "4                    2.0             8400.0             8250.0   \n",
       "\n",
       "   latest_query_day  loans_latest_day  \n",
       "0              12.0              18.0  \n",
       "1               4.0               2.0  \n",
       "2               2.0               6.0  \n",
       "3               2.0               4.0  \n",
       "4              22.0             120.0  \n",
       "\n",
       "[5 rows x 90 columns]"
      ]
     },
     "execution_count": 3,
     "metadata": {},
     "output_type": "execute_result"
    }
   ],
   "source": [
    "data.head()"
   ]
  },
  {
   "cell_type": "markdown",
   "metadata": {},
   "source": [
    "3.删除无关变量"
   ]
  },
  {
   "cell_type": "code",
   "execution_count": 4,
   "metadata": {},
   "outputs": [],
   "source": [
    "#trade_no，bank_card_no几乎是常量，custid推测为每个用户的id，id_name几乎unique也无关\n",
    "#data去重\n",
    "data=data.drop(['trade_no','bank_card_no','custid','source','id_name','Unnamed: 0'],axis=1)\n",
    "data=data.drop_duplicates()"
   ]
  },
  {
   "cell_type": "markdown",
   "metadata": {},
   "source": [
    "4.查看缺失值，此处参考chen19830的代码"
   ]
  },
  {
   "cell_type": "code",
   "execution_count": 5,
   "metadata": {},
   "outputs": [
    {
     "name": "stdout",
     "output_type": "stream",
     "text": [
      "Your selected dataframe has 84 columns.\n",
      "There are 73 columns that have missing values.\n"
     ]
    },
    {
     "data": {
      "text/html": [
       "<div>\n",
       "<style scoped>\n",
       "    .dataframe tbody tr th:only-of-type {\n",
       "        vertical-align: middle;\n",
       "    }\n",
       "\n",
       "    .dataframe tbody tr th {\n",
       "        vertical-align: top;\n",
       "    }\n",
       "\n",
       "    .dataframe thead th {\n",
       "        text-align: right;\n",
       "    }\n",
       "</style>\n",
       "<table border=\"1\" class=\"dataframe\">\n",
       "  <thead>\n",
       "    <tr style=\"text-align: right;\">\n",
       "      <th></th>\n",
       "      <th>Missing Values</th>\n",
       "      <th>% of Total Values</th>\n",
       "    </tr>\n",
       "  </thead>\n",
       "  <tbody>\n",
       "    <tr>\n",
       "      <th>student_feature</th>\n",
       "      <td>2998</td>\n",
       "      <td>63.1</td>\n",
       "    </tr>\n",
       "    <tr>\n",
       "      <th>cross_consume_count_last_1_month</th>\n",
       "      <td>426</td>\n",
       "      <td>9.0</td>\n",
       "    </tr>\n",
       "    <tr>\n",
       "      <th>query_cash_count</th>\n",
       "      <td>304</td>\n",
       "      <td>6.4</td>\n",
       "    </tr>\n",
       "    <tr>\n",
       "      <th>latest_three_month_apply</th>\n",
       "      <td>304</td>\n",
       "      <td>6.4</td>\n",
       "    </tr>\n",
       "    <tr>\n",
       "      <th>latest_one_month_apply</th>\n",
       "      <td>304</td>\n",
       "      <td>6.4</td>\n",
       "    </tr>\n",
       "  </tbody>\n",
       "</table>\n",
       "</div>"
      ],
      "text/plain": [
       "                                  Missing Values  % of Total Values\n",
       "student_feature                             2998               63.1\n",
       "cross_consume_count_last_1_month             426                9.0\n",
       "query_cash_count                             304                6.4\n",
       "latest_three_month_apply                     304                6.4\n",
       "latest_one_month_apply                       304                6.4"
      ]
     },
     "execution_count": 5,
     "metadata": {},
     "output_type": "execute_result"
    }
   ],
   "source": [
    "def missing_values_table(df):\n",
    "    #Total missing values\n",
    "    mis_val=df.isnull().sum()\n",
    "    \n",
    "    #Percentage of missing values\n",
    "    mis_val_percent=100*df.isnull().sum()/len(df)\n",
    "    \n",
    "    #Make a table with the results\n",
    "    mis_val_table=pd.concat([mis_val,mis_val_percent],axis=1)\n",
    "    \n",
    "    #Rename the columns\n",
    "    mis_val_table_ren_columns=mis_val_table.rename(columns={0:'Missing Values',1:'% of Total Values'})\n",
    "    \n",
    "    #Sort the table by percentage of missing descending\n",
    "    mis_val_table_ren_columns=mis_val_table_ren_columns[mis_val_table_ren_columns.iloc[:,1]!=0].sort_values('% of Total Values',ascending=False).round(1)\n",
    "    \n",
    "    #Print some summary information\n",
    "    print(\"Your selected dataframe has \"+str(df.shape[1])+\" columns.\\n\"+\"There are \"+str(mis_val_table_ren_columns.shape[0])+\" columns that have missing values.\")\n",
    "    \n",
    "    #Return the dataframe with missing informarion\n",
    "    return mis_val_table_ren_columns\n",
    "\n",
    "missing_values=missing_values_table(data)\n",
    "missing_values.head()\n"
   ]
  },
  {
   "cell_type": "code",
   "execution_count": 6,
   "metadata": {},
   "outputs": [
    {
     "data": {
      "text/plain": [
       "count    4754.000000\n",
       "mean        0.369794\n",
       "std         0.483670\n",
       "min         0.000000\n",
       "25%         0.000000\n",
       "50%         0.000000\n",
       "75%         1.000000\n",
       "max         2.000000\n",
       "Name: student_feature, dtype: float64"
      ]
     },
     "execution_count": 6,
     "metadata": {},
     "output_type": "execute_result"
    }
   ],
   "source": [
    "#注意到student_feature大部分都为1，其余为nan,此时考虑将nan填充为0\n",
    "data['student_feature'].describe()\n",
    "data['student_feature']=data['student_feature'].fillna(0)\n",
    "data['student_feature'].describe()"
   ]
  },
  {
   "cell_type": "markdown",
   "metadata": {},
   "source": [
    "1.注意到reg_preference_for_trad几乎为5种类型变量，于是让文字转换为数字\n",
    "2.同时注意到存在一些变量为时间变量，应考虑将其转化为0-1变量的数字"
   ]
  },
  {
   "cell_type": "code",
   "execution_count": 7,
   "metadata": {},
   "outputs": [],
   "source": [
    "num_reg={'一线城市':'1','二线城市':'2','三线城市':'3','其他城市':'4','境外':'5'}\n",
    "data['reg_preference_for_trad']=data['reg_preference_for_trad'].map(num_reg)\n",
    "data['reg_preference_for_trad']=data['reg_preference_for_trad'].fillna(0)\n",
    "data['reg_preference_for_trad']=data['reg_preference_for_trad'].astype('float')"
   ]
  },
  {
   "cell_type": "code",
   "execution_count": 8,
   "metadata": {},
   "outputs": [],
   "source": [
    "#对于时间上为Nan的值，drop掉\n",
    "data['first_transaction_time']=pd.to_datetime(data['first_transaction_time'],format='%Y%m%d').astype(np.int64)/1e12\n",
    "data['first_transaction_time'].dropna(inplace=True)\n",
    "df=data['first_transaction_time']\n",
    "df_norm = (df - df.min()) / (df.max() - df.min())\n",
    "data['first_transaction_time']=df_norm"
   ]
  },
  {
   "cell_type": "code",
   "execution_count": 9,
   "metadata": {},
   "outputs": [],
   "source": [
    "data['latest_query_time']=pd.to_datetime(data['latest_query_time'],format='%Y/%m/%d').astype(np.int64)/1e12\n",
    "data['latest_query_time'].dropna(inplace=True)\n",
    "\n",
    "df=data['latest_query_time']\n",
    "df_norm = (df - df.min()) / (df.max() - df.min())\n",
    "data['latest_query_time']=df_norm"
   ]
  },
  {
   "cell_type": "code",
   "execution_count": 10,
   "metadata": {},
   "outputs": [],
   "source": [
    "data['loans_latest_time']=pd.to_datetime(data['loans_latest_time'],format='%Y/%m/%d').astype(np.int64)/1e12\n",
    "data['loans_latest_time'].dropna(inplace=True)\n",
    "df=data['loans_latest_time']\n",
    "df_norm = (df - df.min()) / (df.max() - df.min())\n",
    "data['loans_latest_time']=df_norm"
   ]
  },
  {
   "cell_type": "code",
   "execution_count": 11,
   "metadata": {},
   "outputs": [],
   "source": [
    "#其他考虑用均值填充,注意到其中有1个文字变量，两个时间变量\n",
    "cols = missing_values.index\n",
    "list=['latest_query_time','loans_latest_time','reg_preference_for_trad']\n",
    "for col in cols:   \n",
    "    if col not in list:\n",
    "        data[col] = data[col].fillna(data[col].mean())"
   ]
  },
  {
   "cell_type": "code",
   "execution_count": 12,
   "metadata": {
    "scrolled": true
   },
   "outputs": [
    {
     "data": {
      "image/png": "[encoded data removed]",
      "text/plain": [
       "<Figure size 432x288 with 1 Axes>"
      ]
     },
     "metadata": {},
     "output_type": "display_data"
    }
   ],
   "source": [
    "# statistics\n",
    "from statsmodels.distributions.empirical_distribution import ECDF\n",
    "#对cross_consume_count_last_1_month进行分析有：\n",
    "cdf = ECDF(data['cross_consume_count_last_1_month'])\n",
    "plt.plot(cdf.x, cdf.y, label = \"statmodels\");\n",
    "plt.xlabel('cross_consume_count_last_1_month'); plt.ylabel('ECDF');"
   ]
  },
  {
   "cell_type": "markdown",
   "metadata": {},
   "source": [
    "划分数据集"
   ]
  },
  {
   "cell_type": "markdown",
   "metadata": {},
   "source": [
    "随机森林特征选择"
   ]
  },
  {
   "cell_type": "code",
   "execution_count": 13,
   "metadata": {},
   "outputs": [],
   "source": [
    "from sklearn.model_selection import train_test_split\n",
    "X_train, X_test, y_train, y_test = train_test_split(data.drop(columns=['status']), data['status'], test_size=.3, random_state=2018)"
   ]
  },
  {
   "cell_type": "code",
   "execution_count": 14,
   "metadata": {},
   "outputs": [],
   "source": [
    "from sklearn.ensemble import RandomForestClassifier\n",
    "rfc = RandomForestClassifier(random_state=2018)\n",
    "rfc.fit(X_train,y_train)\n",
    "importance = pd.Series(rfc.feature_importances_, index=X_train.columns).sort_values(ascending=False)\n",
    "rfc_result = importance[: 20].index.tolist()\n",
    "X_train, X_test, y_train, y_test = train_test_split(data[rfc_result], data['status'], test_size=.3, random_state=2018)"
   ]
  },
  {
   "cell_type": "code",
   "execution_count": null,
   "metadata": {},
   "outputs": [],
   "source": []
  },
  {
   "cell_type": "markdown",
   "metadata": {},
   "source": [
    "特征衍生"
   ]
  },
  {
   "cell_type": "markdown",
   "metadata": {},
   "source": [
    "#参考chen19830的代码\n",
    "from sklearn.utils.multiclass  import type_of_target\n",
    "from scipy import stats\n",
    "import math\n",
    "def woe(X, y, event=1):\n",
    "    res_woe = []\n",
    "    iv_dict = {}\n",
    "    for feature in X.columns:\n",
    "        x = X[feature].values\n",
    "        # 1) 连续特征离散化\n",
    "        if type_of_target(x) == 'continuous':\n",
    "            x = discrete(x)\n",
    "        # 2) 计算该特征的woe和iv\n",
    "        # woe_dict, iv = woe_single_x(x, y, feature, event)\n",
    "        woe_dict, iv = woe_single_x(x, y, feature, event)\n",
    "        iv_dict[feature] = iv\n",
    "        res_woe.append(woe_dict)\n",
    "\n",
    "    return iv_dict\n",
    "\n",
    "\n",
    "def discrete(x):\n",
    "    # 使用5等分离散化特征\n",
    "    res = np.zeros(x.shape)\n",
    "    for i in range(5):\n",
    "        point1 = stats.scoreatpercentile(x, i * 20)\n",
    "        point2 = stats.scoreatpercentile(x, (i + 1) * 20)\n",
    "        x1 = x[np.where((x >= point1) & (x <= point2))]\n",
    "        mask = np.in1d(x, x1)\n",
    "        res[mask] = i + 1  # 将[i, i+1]块内的值标记成i+1\n",
    "    return res\n",
    "\n",
    "\n",
    "def woe_single_x(x, y, feature, event=1):\n",
    "    # event代表预测正例的标签\n",
    "    event_total = sum(y == event)\n",
    "    non_event_total = y.shape[-1] - event_total\n",
    "\n",
    "    iv = 0\n",
    "    woe_dict = {}\n",
    "    for x1 in set(x):  # 遍历各个块\n",
    "        y1 = y.reindex(np.where(x == x1)[0])\n",
    "        event_count = sum(y1 == event)\n",
    "        non_event_count = y1.shape[-1] - event_count\n",
    "        rate_event = event_count / event_total\n",
    "        rate_non_event = non_event_count / non_event_total\n",
    "\n",
    "        if rate_event == 0:\n",
    "            rate_event = 0.0001\n",
    "            # woei = -20\n",
    "        elif rate_non_event == 0:\n",
    "            rate_non_event = 0.0001\n",
    "            # woei = 20\n",
    "        woei = math.log(rate_event / rate_non_event)\n",
    "        woe_dict[x1] = woei\n",
    "        iv += (rate_event - rate_non_event) * woei\n",
    "    return woe_dict, iv\n",
    "#iv_dict = woe(X_train, y_train)\n",
    "#iv = sorted(iv_dict.items(), key = lambda x:x[1],reverse = True)"
   ]
  },
  {
   "cell_type": "markdown",
   "metadata": {},
   "source": [
    "构建模型"
   ]
  },
  {
   "cell_type": "code",
   "execution_count": 15,
   "metadata": {},
   "outputs": [],
   "source": [
    "from sklearn.metrics import accuracy_score, recall_score, f1_score, roc_auc_score, roc_curve\n",
    "from matplotlib import pyplot as plt\n",
    "def model_metrics(clf, X_train, X_test, y_train, y_test):\n",
    "    # 预测\n",
    "    y_train_pred = clf.predict(X_train)\n",
    "    y_test_pred = clf.predict(X_test)\n",
    "    y_train_pred_proba = clf.predict_proba(X_train)[:,-1]\n",
    "    y_test_pred_proba = clf.predict_proba(X_test)[:,-1]\n",
    "\n",
    "    # 评估\n",
    "    # 准确性\n",
    "    print('准确性：')\n",
    "    print('Train：{:.4f}'.format(accuracy_score(y_train, y_train_pred)))\n",
    "    print('Test：{:.4f}'.format(accuracy_score(y_test, y_test_pred)))\n",
    "\n",
    "    # 召回率\n",
    "    print('召回率：')\n",
    "    print('Train：{:.4f}'.format(recall_score(y_train, y_train_pred)))\n",
    "    print('Test：{:.4f}'.format(recall_score(y_test, y_test_pred)))\n",
    "    \n",
    "    # f1_score\n",
    "    print('f1_score：')\n",
    "    print('Train：{:.4f}'.format(f1_score(y_train, y_train_pred)))\n",
    "    print('Test：{:.4f}'.format(f1_score(y_test, y_test_pred)))\n",
    "\n",
    "    # roc_auc\n",
    "    print('roc_auc：')\n",
    "    print('Train：{:.4f}'.format(roc_auc_score(y_train, y_train_pred_proba)))\n",
    "    print('Test：{:.4f}'.format(roc_auc_score(y_test, y_test_pred_proba)))    \n",
    "    \n",
    "    # 描绘 ROC 曲线\n",
    "    fpr_tr, tpr_tr, _ = roc_curve(y_train, y_train_pred_proba)\n",
    "    fpr_te, tpr_te, _ = roc_curve(y_test, y_test_pred_proba)\n",
    "\n",
    "    # KS\n",
    "    print('KS：')\n",
    "    print('Train：{:.4f}'.format(max(abs((fpr_tr - tpr_tr)))))\n",
    "    print('Test：{:.4f}'.format(max(abs((fpr_te - tpr_te)))))\n",
    "\n",
    "    # 绘图\n",
    "    plt.plot(fpr_tr, tpr_tr, 'r-',\n",
    "             label=\"Train:AUC: {:.3f} KS:{:.3f}\".format(roc_auc_score(y_train, y_train_pred_proba), \n",
    "                                                        max(abs((fpr_tr - tpr_tr)))))\n",
    "    plt.plot(fpr_te, tpr_te, 'g-',\n",
    "             label=\"Test:AUC: {:.3f} KS:{:.3f}\".format(roc_auc_score(y_test, y_test_pred_proba),\n",
    "                                                     max(abs((fpr_tr - tpr_tr)))))\n",
    "    plt.plot([0, 1], [0, 1], 'd--')\n",
    "    plt.legend(loc='best')\n",
    "    plt.title(\"ROC curse\")\n",
    "    plt.show()\n"
   ]
  },
  {
   "cell_type": "markdown",
   "metadata": {
    "scrolled": true
   },
   "source": [
    "#logistic regression\n",
    "from sklearn import linear_model\n",
    "from sklearn import metrics\n",
    "reg=linear_model.LogisticRegression()\n",
    "reg.fit(X_train,y_train)\n",
    "model_metrics(reg, X_train, X_test, y_train, y_test)"
   ]
  },
  {
   "cell_type": "markdown",
   "metadata": {},
   "source": [
    "# svm\n",
    "from sklearn import svm\n",
    "reg=svm.SVC(probability=True,)\n",
    "reg.fit(X_train,y_train)\n",
    "model_metrics(reg, X_train, X_test, y_train, y_test)"
   ]
  },
  {
   "cell_type": "markdown",
   "metadata": {},
   "source": [
    "#xgboost\n",
    "from xgboost.sklearn import XGBClassifier\n",
    "reg=XGBClassifier()\n",
    "reg.fit(X_train,y_train)\n",
    "model_metrics(reg, X_train, X_test, y_train, y_test)"
   ]
  },
  {
   "cell_type": "markdown",
   "metadata": {},
   "source": [
    "#decision_tree\n",
    "from sklearn.tree import DecisionTreeClassifier\n",
    "reg=DecisionTreeClassifier()\n",
    "reg.fit(X_train,y_train)\n",
    "reg.fit(X_train,y_train)\n",
    "model_metrics(reg, X_train, X_test, y_train, y_test)"
   ]
  },
  {
   "cell_type": "markdown",
   "metadata": {},
   "source": [
    "#RandomForestCLassifier\n",
    "from sklearn.ensemble import RandomForestClassifier\n",
    "reg=RandomForestClassifier()\n",
    "reg.fit(X_train,y_train)\n",
    "model_metrics(reg, X_train, X_test, y_train, y_test)"
   ]
  },
  {
   "cell_type": "markdown",
   "metadata": {},
   "source": [
    "模型调优"
   ]
  },
  {
   "cell_type": "code",
   "execution_count": 20,
   "metadata": {},
   "outputs": [],
   "source": [
    "from sklearn import linear_model\n",
    "from sklearn.model_selection import GridSearchCV\n",
    "from sklearn.linear_model import LogisticRegression\n",
    "from sklearn import svm\n",
    "from sklearn.tree import DecisionTreeClassifier\n",
    "from sklearn.ensemble import RandomForestClassifier\n",
    "from xgboost.sklearn import XGBClassifier\n"
   ]
  },
  {
   "cell_type": "code",
   "execution_count": 21,
   "metadata": {},
   "outputs": [
    {
     "name": "stdout",
     "output_type": "stream",
     "text": [
      "最佳参数： {'C': 0.04, 'penalty': 'l1'}\n"
     ]
    }
   ],
   "source": [
    "lr_reg=linear_model.LogisticRegression()\n",
    "param = {'C': [0.03,0.035,0.04,0.045,0.05], 'penalty':['l1', 'l2']}\n",
    "gsearch = GridSearchCV(lr_reg, param_grid = param,scoring ='roc_auc', cv=5)\n",
    "gsearch.fit(X_train,y_train)\n",
    "print('最佳参数：',gsearch.best_params_)"
   ]
  },
  {
   "cell_type": "code",
   "execution_count": 22,
   "metadata": {},
   "outputs": [
    {
     "name": "stdout",
     "output_type": "stream",
     "text": [
      "准确性：\n",
      "Train：0.7941\n",
      "Test：0.7715\n",
      "召回率：\n",
      "Train：0.3118\n",
      "Test：0.2563\n",
      "f1_score：\n",
      "Train：0.4315\n",
      "Test：0.3608\n",
      "roc_auc：\n",
      "Train：0.7971\n",
      "Test：0.7725\n",
      "KS：\n",
      "Train：0.4454\n",
      "Test：0.4119\n"
     ]
    },
    {
     "data": {
      "image/png": "[encoded data removed]",
      "text/plain": [
       "<Figure size 432x288 with 1 Axes>"
      ]
     },
     "metadata": {},
     "output_type": "display_data"
    }
   ],
   "source": [
    "lr = LogisticRegression(C = 0.04, penalty = 'l1')\n",
    "lr.fit(X_train, y_train)\n",
    "model_metrics(lr, X_train, X_test, y_train, y_test)"
   ]
  },
  {
   "cell_type": "code",
   "execution_count": 19,
   "metadata": {},
   "outputs": [
    {
     "name": "stdout",
     "output_type": "stream",
     "text": [
      "最佳参数： {'C': 0.1, 'kernel': 'rbf'}\n"
     ]
    }
   ],
   "source": [
    "svm_linear = svm.SVC(probability=True)\n",
    "param = {'C':[0.1,0.2,0.3],'kernel':['rbf']}\n",
    "gsearch = GridSearchCV(svm_linear, param_grid = param,scoring ='roc_auc', cv=5)\n",
    "gsearch.fit(X_train, y_train)\n",
    "print('最佳参数：',gsearch.best_params_)\n"
   ]
  },
  {
   "cell_type": "code",
   "execution_count": 20,
   "metadata": {},
   "outputs": [
    {
     "name": "stdout",
     "output_type": "stream",
     "text": [
      "准确性：\n",
      "Train：0.7493\n",
      "Test：0.7484\n",
      "召回率：\n",
      "Train：0.0000\n",
      "Test：0.0000\n",
      "f1_score：\n",
      "Train：0.0000\n",
      "Test：0.0000\n",
      "roc_auc：\n",
      "Train：0.0000\n",
      "Test：0.5000\n",
      "KS：\n",
      "Train：1.0000\n",
      "Test：0.0000\n"
     ]
    },
    {
     "name": "stderr",
     "output_type": "stream",
     "text": [
      "G:\\Anaconda3\\lib\\site-packages\\sklearn\\metrics\\classification.py:1135: UndefinedMetricWarning: F-score is ill-defined and being set to 0.0 due to no predicted samples.\n",
      "  'precision', 'predicted', average, warn_for)\n",
      "G:\\Anaconda3\\lib\\site-packages\\sklearn\\metrics\\classification.py:1135: UndefinedMetricWarning: F-score is ill-defined and being set to 0.0 due to no predicted samples.\n",
      "  'precision', 'predicted', average, warn_for)\n"
     ]
    },
    {
     "data": {
      "image/png": "[encoded data removed]",
      "text/plain": [
       "<Figure size 432x288 with 1 Axes>"
      ]
     },
     "metadata": {},
     "output_type": "display_data"
    }
   ],
   "source": [
    "svm_linear = svm.SVC(C = 0.1, kernel = 'rbf', probability=True)\n",
    "svm_linear.fit(X_train, y_train)\n",
    "model_metrics(svm_linear, X_train, X_test, y_train, y_test)"
   ]
  },
  {
   "cell_type": "code",
   "execution_count": 23,
   "metadata": {},
   "outputs": [
    {
     "data": {
      "text/plain": [
       "({'max_depth': 5, 'min_samples_split': 90}, 0.7390887421636678)"
      ]
     },
     "execution_count": 23,
     "metadata": {},
     "output_type": "execute_result"
    }
   ],
   "source": [
    "param = {'max_depth':range(4,6,1), 'min_samples_split':range(50,100,10)}\n",
    "gsearch = GridSearchCV(DecisionTreeClassifier(),\n",
    "                       param_grid = param,scoring ='roc_auc', cv=5)\n",
    "\n",
    "gsearch.fit(X_train, y_train)\n",
    "gsearch.best_params_, gsearch.best_score_\n"
   ]
  },
  {
   "cell_type": "code",
   "execution_count": 24,
   "metadata": {},
   "outputs": [
    {
     "name": "stdout",
     "output_type": "stream",
     "text": [
      "准确性：\n",
      "Train：0.8082\n",
      "Test：0.7603\n",
      "召回率：\n",
      "Train：0.3981\n",
      "Test：0.2953\n",
      "f1_score：\n",
      "Train：0.5100\n",
      "Test：0.3827\n",
      "roc_auc：\n",
      "Train：0.7882\n",
      "Test：0.7099\n",
      "KS：\n",
      "Train：0.4599\n",
      "Test：0.3303\n"
     ]
    },
    {
     "data": {
      "image/png": "[encoded data removed]",
      "text/plain": [
       "<Figure size 432x288 with 1 Axes>"
      ]
     },
     "metadata": {},
     "output_type": "display_data"
    }
   ],
   "source": [
    "dt = DecisionTreeClassifier(max_depth=5,min_samples_split=90)\n",
    "dt.fit(X_train, y_train)\n",
    "model_metrics(dt, X_train, X_test, y_train, y_test)"
   ]
  },
  {
   "cell_type": "code",
   "execution_count": 25,
   "metadata": {},
   "outputs": [
    {
     "data": {
      "text/plain": [
       "({'max_depth': 7, 'n_estimators': 100}, 0.7925722130749652)"
      ]
     },
     "execution_count": 25,
     "metadata": {},
     "output_type": "execute_result"
    }
   ],
   "source": [
    "param_test = {'n_estimators':range(20,200,20),'max_depth':range(5,10,1)}\n",
    "gsearch = GridSearchCV(estimator = RandomForestClassifier(), \n",
    "                       param_grid = param_test, scoring='roc_auc', cv=5)\n",
    "gsearch.fit(X_train, y_train)\n",
    "gsearch.best_params_, gsearch.best_score_"
   ]
  },
  {
   "cell_type": "code",
   "execution_count": 26,
   "metadata": {},
   "outputs": [
    {
     "name": "stdout",
     "output_type": "stream",
     "text": [
      "准确性：\n",
      "Train：0.8539\n",
      "Test：0.7807\n",
      "召回率：\n",
      "Train：0.4376\n",
      "Test：0.2646\n",
      "f1_score：\n",
      "Train：0.6003\n",
      "Test：0.3777\n",
      "roc_auc：\n",
      "Train：0.9149\n",
      "Test：0.7652\n",
      "KS：\n",
      "Train：0.6709\n",
      "Test：0.4107\n"
     ]
    },
    {
     "data": {
      "image/png": "[encoded data removed]",
      "text/plain": [
       "<Figure size 432x288 with 1 Axes>"
      ]
     },
     "metadata": {},
     "output_type": "display_data"
    }
   ],
   "source": [
    "rf = RandomForestClassifier(n_estimators=100, max_depth=7)\n",
    "rf.fit(X_train, y_train)\n",
    "model_metrics(rf, X_train, X_test, y_train, y_test)"
   ]
  },
  {
   "cell_type": "code",
   "execution_count": 27,
   "metadata": {},
   "outputs": [
    {
     "data": {
      "text/plain": [
       "({'learning_rate': 0.03, 'max_depth': 2, 'n_estimators': 180},\n",
       " 0.794096690452664)"
      ]
     },
     "execution_count": 27,
     "metadata": {},
     "output_type": "execute_result"
    }
   ],
   "source": [
    "import warnings\n",
    "warnings.filterwarnings(\"ignore\")\n",
    "param_test = {'n_estimators':range(100,200,20),'learning_rate':[0.01,0.02,0.03],'max_depth':range(2,4,1)}\n",
    "gsearch = GridSearchCV(estimator = XGBClassifier(), param_grid = param_test, scoring='roc_auc',n_jobs=4,iid=False, cv=5)\n",
    "gsearch.fit(X_train, y_train)\n",
    "gsearch.best_params_, gsearch.best_score_"
   ]
  },
  {
   "cell_type": "code",
   "execution_count": 28,
   "metadata": {},
   "outputs": [
    {
     "name": "stdout",
     "output_type": "stream",
     "text": [
      "准确性：\n",
      "Train：0.8121\n",
      "Test：0.7807\n",
      "召回率：\n",
      "Train：0.3369\n",
      "Test：0.2869\n",
      "f1_score：\n",
      "Train：0.4735\n",
      "Test：0.3969\n",
      "roc_auc：\n",
      "Train：0.8310\n",
      "Test：0.7702\n",
      "KS：\n",
      "Train：0.5008\n",
      "Test：0.4147\n"
     ]
    },
    {
     "data": {
      "image/png": "[encoded data removed]",
      "text/plain": [
       "<Figure size 432x288 with 1 Axes>"
      ]
     },
     "metadata": {},
     "output_type": "display_data"
    }
   ],
   "source": [
    "xgb = XGBClassifier(learning_rate =0.03, n_estimators=180, max_depth=2)\n",
    "xgb.fit(X_train, y_train)\n",
    "model_metrics(xgb, X_train, X_test, y_train, y_test)"
   ]
  },
  {
   "cell_type": "code",
   "execution_count": 31,
   "metadata": {},
   "outputs": [
    {
     "name": "stdout",
     "output_type": "stream",
     "text": [
      "准确性：\n",
      "Train：0.9405\n",
      "Test：0.7309\n",
      "召回率：\n",
      "Train：0.7998\n",
      "Test：0.4262\n",
      "f1_score：\n",
      "Train：0.8708\n",
      "Test：0.4435\n",
      "roc_auc：\n",
      "Train：0.9828\n",
      "Test：0.6973\n",
      "KS：\n",
      "Train：0.8494\n",
      "Test：0.3094\n"
     ]
    },
    {
     "data": {
      "image/png": "[encoded data removed]",
      "text/plain": [
       "<Figure size 432x288 with 1 Axes>"
      ]
     },
     "metadata": {},
     "output_type": "display_data"
    }
   ],
   "source": [
    "from mlxtend.classifier import StackingClassifier\n",
    "sclf=StackingClassifier(classifiers=[rf,xgb],meta_classifier=rf,use_probas=True)\n",
    "sclf.fit(X_train,y_train)\n",
    "model_metrics(sclf, X_train, X_test, y_train, y_test)"
   ]
  },
  {
   "cell_type": "code",
   "execution_count": null,
   "metadata": {},
   "outputs": [],
   "source": []
  }
 ],
 "metadata": {
  "kernelspec": {
   "display_name": "Python 3",
   "language": "python",
   "name": "python3"
  },
  "language_info": {
   "codemirror_mode": {
    "name": "ipython",
    "version": 3
   },
   "file_extension": ".py",
   "mimetype": "text/x-python",
   "name": "python",
   "nbconvert_exporter": "python",
   "pygments_lexer": "ipython3",
   "version": "3.6.5"
  }
 },
 "nbformat": 4,
 "nbformat_minor": 2
}
